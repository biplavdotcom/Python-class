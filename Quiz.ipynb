{
  "nbformat": 4,
  "nbformat_minor": 0,
  "metadata": {
    "colab": {
      "provenance": []
    },
    "kernelspec": {
      "name": "python3",
      "display_name": "Python 3"
    },
    "language_info": {
      "name": "python"
    }
  },
  "cells": [
    {
      "cell_type": "code",
      "execution_count": 60,
      "metadata": {
        "colab": {
          "base_uri": "https://localhost:8080/"
        },
        "id": "Hf9bqt6-skWU",
        "outputId": "cd323e99-453a-499e-a5cd-c6a0c2e80c14"
      },
      "outputs": [
        {
          "output_type": "stream",
          "name": "stdout",
          "text": [
            "Q1. What is What is the output of the following code? \n",
            " var1 = 1 \n",
            " var2 = 2 \n",
            " var3 = 3 \n",
            " print(var1 + var2 + var3) \n",
            "\n",
            "Choose your answer\n",
            " a. 6 \n",
            " b. 33 \n",
            " c. 123 \n",
            " d. Error. Mixing operators between numbers and strings are not supported\n",
            "Enter your answer:d\n",
            "Sahi jawaaab \n",
            "\n",
            "Q2. What is the Output of the following code? \n",
            " for x in range(0.5, 5.5, 0.5): \n",
            " print(x)\n",
            "\n",
            "Choose your answer\n",
            " a. [0.5, 1, 1.5, 2, 2.5, 3, 3.5, 4, 4.5, 5, 5.5] \n",
            " b. [0.5, 1, 1.5, 2, 2.5, 3, 3.5, 4, 4.5, 5] \n",
            " c. The Program executed with errors \n",
            "Enter your answer:a\n",
            "Sahi jawaaab \n",
            "\n",
            "Q3. What is the Output of the following code? \n",
            " def calculate (num1, num2=4):\n",
            "res = num1 * num2\n",
            "print(res)\n",
            "calculate(5,6)\n",
            "\n",
            "Choose your answer\n",
            "a. 10\n",
            "b. 2\n",
            "c. 30 \n",
            "d. The program executed with errors\n",
            "Enter your answer:c\n",
            "Sahi jawaaab \n",
            "\n",
            "Q4. What is the output of the following code? \n",
            " valueOne = 5 ** 2\n",
            " valueTwo = 5 ** 3\n",
            " print(valueOne)\n",
            " print(valueTwo)\n",
            "\n",
            "Choose your answer\n",
            "a. 10 15\n",
            "b. 25 125 \n",
            "c. Error: invalid syntax\n",
            "Enter your answer:b\n",
            "Sahi jawaaab \n",
            "\n",
            "Q5. Which operator has higher precedence in the following list\n",
            " \n",
            "a. % (Modulus)\n",
            "b. & (BitWise AND)\n",
            "c. ** (Exponent)\n",
            "d. > (Comparison)\n",
            "Enter your answer:c\n",
            "Sahi jawaaab \n",
            "\n",
            "Your total score is 50 out of 50\n"
          ]
        }
      ],
      "source": [
        "questions = {\n",
        "    \"Q1. What is What is the output of the following code? \\n var1 = 1 \\n var2 = 2 \\n var3 = \"\"3\"\" \\n print(var1 + var2 + var3) \" : \"\\nChoose your answer\\n a. 6 \\n b. 33 \\n c. 123 \\n d. Error. Mixing operators between numbers and strings are not supported\",\n",
        "    \"Q2. What is the Output of the following code? \\n for x in range(0.5, 5.5, 0.5): \\n print(x)\" : \"\\nChoose your answer\\n a. [0.5, 1, 1.5, 2, 2.5, 3, 3.5, 4, 4.5, 5, 5.5] \\n b. [0.5, 1, 1.5, 2, 2.5, 3, 3.5, 4, 4.5, 5] \\n c. The Program executed with errors \",\n",
        "    \"Q3. What is the Output of the following code? \\n def calculate (num1, num2=4):\\nres = num1 * num2\\nprint(res)\\ncalculate(5,6)\" : \"\\nChoose your answer\\na. 10\\nb. 2\\nc. 30 \\nd. The program executed with errors\",\n",
        "    \"Q4. What is the output of the following code? \\n valueOne = 5 ** 2\\n valueTwo = 5 ** 3\\n print(valueOne)\\n print(valueTwo)\": \"\\nChoose your answer\\na. 10 15\\nb. 25 125 \\nc. Error: invalid syntax\",\n",
        "    \"Q5. Which operator has higher precedence in the following list\": \" \\na. % (Modulus)\\nb. & (BitWise AND)\\nc. ** (Exponent)\\nd. > (Comparison)\"\n",
        "\n",
        "    }\n",
        "answers = ['d','a','c','b','c'];\n",
        "\n",
        "total = 0\n",
        "n = 0\n",
        "for i in questions:\n",
        "  print(i)\n",
        "  print(questions[i])\n",
        "  answer = input(\"Enter your answer:\")\n",
        "  if (answer == answers[n]):\n",
        "    print(\"Sahi jawaaab \\n\")\n",
        "    total = total + 10\n",
        "  else:\n",
        "    print(\"Wrong \")\n",
        "  n+=1;\n",
        "print(f'Your total score is {total} out of {len(questions) * 10 }')\n"
      ]
    }
  ]
}